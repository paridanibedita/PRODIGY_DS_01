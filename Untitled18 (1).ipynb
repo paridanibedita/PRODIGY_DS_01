{
 "cells": [
  {
   "cell_type": "code",
   "execution_count": 1,
   "id": "62f77dbc-b321-41d8-aaa9-293647ef69ba",
   "metadata": {},
   "outputs": [],
   "source": [
    "##import all the necessary libraries\n",
    "import pandas as pd\n",
    "import numpy as np\n",
    "import matplotlib.pyplot as plt\n",
    "import seaborn as snb"
   ]
  },
  {
   "cell_type": "code",
   "execution_count": 2,
   "id": "4590b6d3-8293-4a6e-b5c4-962d07e063f1",
   "metadata": {},
   "outputs": [
    {
     "data": {
      "text/html": [
       "<div>\n",
       "<style scoped>\n",
       "    .dataframe tbody tr th:only-of-type {\n",
       "        vertical-align: middle;\n",
       "    }\n",
       "\n",
       "    .dataframe tbody tr th {\n",
       "        vertical-align: top;\n",
       "    }\n",
       "\n",
       "    .dataframe thead th {\n",
       "        text-align: right;\n",
       "    }\n",
       "</style>\n",
       "<table border=\"1\" class=\"dataframe\">\n",
       "  <thead>\n",
       "    <tr style=\"text-align: right;\">\n",
       "      <th></th>\n",
       "      <th>Country (or dependency)</th>\n",
       "      <th>Population (2020)</th>\n",
       "      <th>Yearly Change</th>\n",
       "      <th>Net Change</th>\n",
       "      <th>Density (P/Km²)</th>\n",
       "      <th>Land Area (Km²)</th>\n",
       "      <th>Migrants (net)</th>\n",
       "      <th>Fert. Rate</th>\n",
       "      <th>Med. Age</th>\n",
       "      <th>Urban Pop %</th>\n",
       "      <th>World Share</th>\n",
       "    </tr>\n",
       "  </thead>\n",
       "  <tbody>\n",
       "    <tr>\n",
       "      <th>0</th>\n",
       "      <td>China</td>\n",
       "      <td>1440297825</td>\n",
       "      <td>0.39 %</td>\n",
       "      <td>5540090</td>\n",
       "      <td>153</td>\n",
       "      <td>9388211</td>\n",
       "      <td>-348399.0</td>\n",
       "      <td>1.7</td>\n",
       "      <td>38</td>\n",
       "      <td>61 %</td>\n",
       "      <td>18.47 %</td>\n",
       "    </tr>\n",
       "    <tr>\n",
       "      <th>1</th>\n",
       "      <td>India</td>\n",
       "      <td>1382345085</td>\n",
       "      <td>0.99 %</td>\n",
       "      <td>13586631</td>\n",
       "      <td>464</td>\n",
       "      <td>2973190</td>\n",
       "      <td>-532687.0</td>\n",
       "      <td>2.2</td>\n",
       "      <td>28</td>\n",
       "      <td>35 %</td>\n",
       "      <td>17.70 %</td>\n",
       "    </tr>\n",
       "    <tr>\n",
       "      <th>2</th>\n",
       "      <td>United States</td>\n",
       "      <td>331341050</td>\n",
       "      <td>0.59 %</td>\n",
       "      <td>1937734</td>\n",
       "      <td>36</td>\n",
       "      <td>9147420</td>\n",
       "      <td>954806.0</td>\n",
       "      <td>1.8</td>\n",
       "      <td>38</td>\n",
       "      <td>83 %</td>\n",
       "      <td>4.25 %</td>\n",
       "    </tr>\n",
       "    <tr>\n",
       "      <th>3</th>\n",
       "      <td>Indonesia</td>\n",
       "      <td>274021604</td>\n",
       "      <td>1.07 %</td>\n",
       "      <td>2898047</td>\n",
       "      <td>151</td>\n",
       "      <td>1811570</td>\n",
       "      <td>-98955.0</td>\n",
       "      <td>2.3</td>\n",
       "      <td>30</td>\n",
       "      <td>56 %</td>\n",
       "      <td>3.51 %</td>\n",
       "    </tr>\n",
       "    <tr>\n",
       "      <th>4</th>\n",
       "      <td>Pakistan</td>\n",
       "      <td>221612785</td>\n",
       "      <td>2.00 %</td>\n",
       "      <td>4327022</td>\n",
       "      <td>287</td>\n",
       "      <td>770880</td>\n",
       "      <td>-233379.0</td>\n",
       "      <td>3.6</td>\n",
       "      <td>23</td>\n",
       "      <td>35 %</td>\n",
       "      <td>2.83 %</td>\n",
       "    </tr>\n",
       "    <tr>\n",
       "      <th>...</th>\n",
       "      <td>...</td>\n",
       "      <td>...</td>\n",
       "      <td>...</td>\n",
       "      <td>...</td>\n",
       "      <td>...</td>\n",
       "      <td>...</td>\n",
       "      <td>...</td>\n",
       "      <td>...</td>\n",
       "      <td>...</td>\n",
       "      <td>...</td>\n",
       "      <td>...</td>\n",
       "    </tr>\n",
       "    <tr>\n",
       "      <th>230</th>\n",
       "      <td>Montserrat</td>\n",
       "      <td>4993</td>\n",
       "      <td>0.06 %</td>\n",
       "      <td>3</td>\n",
       "      <td>50</td>\n",
       "      <td>100</td>\n",
       "      <td>NaN</td>\n",
       "      <td>N.A.</td>\n",
       "      <td>N.A.</td>\n",
       "      <td>10 %</td>\n",
       "      <td>0.00 %</td>\n",
       "    </tr>\n",
       "    <tr>\n",
       "      <th>231</th>\n",
       "      <td>Falkland Islands</td>\n",
       "      <td>3497</td>\n",
       "      <td>3.05 %</td>\n",
       "      <td>103</td>\n",
       "      <td>0</td>\n",
       "      <td>12170</td>\n",
       "      <td>NaN</td>\n",
       "      <td>N.A.</td>\n",
       "      <td>N.A.</td>\n",
       "      <td>66 %</td>\n",
       "      <td>0.00 %</td>\n",
       "    </tr>\n",
       "    <tr>\n",
       "      <th>232</th>\n",
       "      <td>Niue</td>\n",
       "      <td>1628</td>\n",
       "      <td>0.68 %</td>\n",
       "      <td>11</td>\n",
       "      <td>6</td>\n",
       "      <td>260</td>\n",
       "      <td>NaN</td>\n",
       "      <td>N.A.</td>\n",
       "      <td>N.A.</td>\n",
       "      <td>46 %</td>\n",
       "      <td>0.00 %</td>\n",
       "    </tr>\n",
       "    <tr>\n",
       "      <th>233</th>\n",
       "      <td>Tokelau</td>\n",
       "      <td>1360</td>\n",
       "      <td>1.27 %</td>\n",
       "      <td>17</td>\n",
       "      <td>136</td>\n",
       "      <td>10</td>\n",
       "      <td>NaN</td>\n",
       "      <td>N.A.</td>\n",
       "      <td>N.A.</td>\n",
       "      <td>0 %</td>\n",
       "      <td>0.00 %</td>\n",
       "    </tr>\n",
       "    <tr>\n",
       "      <th>234</th>\n",
       "      <td>Holy See</td>\n",
       "      <td>801</td>\n",
       "      <td>0.25 %</td>\n",
       "      <td>2</td>\n",
       "      <td>2003</td>\n",
       "      <td>0</td>\n",
       "      <td>NaN</td>\n",
       "      <td>N.A.</td>\n",
       "      <td>N.A.</td>\n",
       "      <td>N.A.</td>\n",
       "      <td>0.00 %</td>\n",
       "    </tr>\n",
       "  </tbody>\n",
       "</table>\n",
       "<p>235 rows × 11 columns</p>\n",
       "</div>"
      ],
      "text/plain": [
       "    Country (or dependency)  Population (2020) Yearly Change  Net Change  \\\n",
       "0                     China         1440297825        0.39 %     5540090   \n",
       "1                     India         1382345085        0.99 %    13586631   \n",
       "2             United States          331341050        0.59 %     1937734   \n",
       "3                 Indonesia          274021604        1.07 %     2898047   \n",
       "4                  Pakistan          221612785        2.00 %     4327022   \n",
       "..                      ...                ...           ...         ...   \n",
       "230              Montserrat               4993        0.06 %           3   \n",
       "231        Falkland Islands               3497        3.05 %         103   \n",
       "232                    Niue               1628        0.68 %          11   \n",
       "233                 Tokelau               1360        1.27 %          17   \n",
       "234                Holy See                801        0.25 %           2   \n",
       "\n",
       "     Density (P/Km²)  Land Area (Km²)  Migrants (net) Fert. Rate Med. Age  \\\n",
       "0                153          9388211       -348399.0        1.7       38   \n",
       "1                464          2973190       -532687.0        2.2       28   \n",
       "2                 36          9147420        954806.0        1.8       38   \n",
       "3                151          1811570        -98955.0        2.3       30   \n",
       "4                287           770880       -233379.0        3.6       23   \n",
       "..               ...              ...             ...        ...      ...   \n",
       "230               50              100             NaN       N.A.     N.A.   \n",
       "231                0            12170             NaN       N.A.     N.A.   \n",
       "232                6              260             NaN       N.A.     N.A.   \n",
       "233              136               10             NaN       N.A.     N.A.   \n",
       "234             2003                0             NaN       N.A.     N.A.   \n",
       "\n",
       "    Urban Pop % World Share  \n",
       "0          61 %     18.47 %  \n",
       "1          35 %     17.70 %  \n",
       "2          83 %      4.25 %  \n",
       "3          56 %      3.51 %  \n",
       "4          35 %      2.83 %  \n",
       "..          ...         ...  \n",
       "230        10 %      0.00 %  \n",
       "231        66 %      0.00 %  \n",
       "232        46 %      0.00 %  \n",
       "233         0 %      0.00 %  \n",
       "234        N.A.      0.00 %  \n",
       "\n",
       "[235 rows x 11 columns]"
      ]
     },
     "execution_count": 2,
     "metadata": {},
     "output_type": "execute_result"
    }
   ],
   "source": [
    "##load data sets\n",
    "df = pd.read_csv(r\"C:\\Users\\ADMIN\\OneDrive\\Documents\\Data science\\podigry_infotech\\task1\\population_by_country_2020.csv\")\n",
    "df"
   ]
  },
  {
   "cell_type": "code",
   "execution_count": 4,
   "id": "f7b84965-beb5-4c88-b674-e3ff67fc47b9",
   "metadata": {},
   "outputs": [
    {
     "data": {
      "text/html": [
       "<div>\n",
       "<style scoped>\n",
       "    .dataframe tbody tr th:only-of-type {\n",
       "        vertical-align: middle;\n",
       "    }\n",
       "\n",
       "    .dataframe tbody tr th {\n",
       "        vertical-align: top;\n",
       "    }\n",
       "\n",
       "    .dataframe thead th {\n",
       "        text-align: right;\n",
       "    }\n",
       "</style>\n",
       "<table border=\"1\" class=\"dataframe\">\n",
       "  <thead>\n",
       "    <tr style=\"text-align: right;\">\n",
       "      <th></th>\n",
       "      <th>Population (2020)</th>\n",
       "      <th>Net Change</th>\n",
       "      <th>Density (P/Km²)</th>\n",
       "      <th>Land Area (Km²)</th>\n",
       "      <th>Migrants (net)</th>\n",
       "    </tr>\n",
       "  </thead>\n",
       "  <tbody>\n",
       "    <tr>\n",
       "      <th>count</th>\n",
       "      <td>2.350000e+02</td>\n",
       "      <td>2.350000e+02</td>\n",
       "      <td>235.000000</td>\n",
       "      <td>2.350000e+02</td>\n",
       "      <td>201.000000</td>\n",
       "    </tr>\n",
       "    <tr>\n",
       "      <th>mean</th>\n",
       "      <td>3.322744e+07</td>\n",
       "      <td>3.460878e+05</td>\n",
       "      <td>475.770213</td>\n",
       "      <td>5.535918e+05</td>\n",
       "      <td>6.283582</td>\n",
       "    </tr>\n",
       "    <tr>\n",
       "      <th>std</th>\n",
       "      <td>1.353034e+08</td>\n",
       "      <td>1.128260e+06</td>\n",
       "      <td>2331.285935</td>\n",
       "      <td>1.687796e+06</td>\n",
       "      <td>123291.887548</td>\n",
       "    </tr>\n",
       "    <tr>\n",
       "      <th>min</th>\n",
       "      <td>8.010000e+02</td>\n",
       "      <td>-3.838400e+05</td>\n",
       "      <td>0.000000</td>\n",
       "      <td>0.000000e+00</td>\n",
       "      <td>-653249.000000</td>\n",
       "    </tr>\n",
       "    <tr>\n",
       "      <th>25%</th>\n",
       "      <td>3.994905e+05</td>\n",
       "      <td>4.240000e+02</td>\n",
       "      <td>37.000000</td>\n",
       "      <td>2.545000e+03</td>\n",
       "      <td>-10047.000000</td>\n",
       "    </tr>\n",
       "    <tr>\n",
       "      <th>50%</th>\n",
       "      <td>5.460109e+06</td>\n",
       "      <td>3.917000e+04</td>\n",
       "      <td>95.000000</td>\n",
       "      <td>7.724000e+04</td>\n",
       "      <td>-852.000000</td>\n",
       "    </tr>\n",
       "    <tr>\n",
       "      <th>75%</th>\n",
       "      <td>2.067170e+07</td>\n",
       "      <td>2.496600e+05</td>\n",
       "      <td>239.500000</td>\n",
       "      <td>4.038200e+05</td>\n",
       "      <td>9741.000000</td>\n",
       "    </tr>\n",
       "    <tr>\n",
       "      <th>max</th>\n",
       "      <td>1.440298e+09</td>\n",
       "      <td>1.358663e+07</td>\n",
       "      <td>26337.000000</td>\n",
       "      <td>1.637687e+07</td>\n",
       "      <td>954806.000000</td>\n",
       "    </tr>\n",
       "  </tbody>\n",
       "</table>\n",
       "</div>"
      ],
      "text/plain": [
       "       Population (2020)    Net Change  Density (P/Km²)  Land Area (Km²)  \\\n",
       "count       2.350000e+02  2.350000e+02       235.000000     2.350000e+02   \n",
       "mean        3.322744e+07  3.460878e+05       475.770213     5.535918e+05   \n",
       "std         1.353034e+08  1.128260e+06      2331.285935     1.687796e+06   \n",
       "min         8.010000e+02 -3.838400e+05         0.000000     0.000000e+00   \n",
       "25%         3.994905e+05  4.240000e+02        37.000000     2.545000e+03   \n",
       "50%         5.460109e+06  3.917000e+04        95.000000     7.724000e+04   \n",
       "75%         2.067170e+07  2.496600e+05       239.500000     4.038200e+05   \n",
       "max         1.440298e+09  1.358663e+07     26337.000000     1.637687e+07   \n",
       "\n",
       "       Migrants (net)  \n",
       "count      201.000000  \n",
       "mean         6.283582  \n",
       "std     123291.887548  \n",
       "min    -653249.000000  \n",
       "25%     -10047.000000  \n",
       "50%       -852.000000  \n",
       "75%       9741.000000  \n",
       "max     954806.000000  "
      ]
     },
     "execution_count": 4,
     "metadata": {},
     "output_type": "execute_result"
    }
   ],
   "source": [
    "##describe about the data\n",
    "df.describe()"
   ]
  },
  {
   "cell_type": "code",
   "execution_count": 5,
   "id": "9cbe513e-4525-4908-b1c0-5f5f495011d2",
   "metadata": {},
   "outputs": [
    {
     "name": "stdout",
     "output_type": "stream",
     "text": [
      "<class 'pandas.core.frame.DataFrame'>\n",
      "RangeIndex: 235 entries, 0 to 234\n",
      "Data columns (total 11 columns):\n",
      " #   Column                   Non-Null Count  Dtype  \n",
      "---  ------                   --------------  -----  \n",
      " 0   Country (or dependency)  235 non-null    object \n",
      " 1   Population (2020)        235 non-null    int64  \n",
      " 2   Yearly Change            235 non-null    object \n",
      " 3   Net Change               235 non-null    int64  \n",
      " 4   Density (P/Km²)          235 non-null    int64  \n",
      " 5   Land Area (Km²)          235 non-null    int64  \n",
      " 6   Migrants (net)           201 non-null    float64\n",
      " 7   Fert. Rate               235 non-null    object \n",
      " 8   Med. Age                 235 non-null    object \n",
      " 9   Urban Pop %              235 non-null    object \n",
      " 10  World Share              235 non-null    object \n",
      "dtypes: float64(1), int64(4), object(6)\n",
      "memory usage: 20.3+ KB\n"
     ]
    }
   ],
   "source": [
    "df.info()"
   ]
  },
  {
   "cell_type": "code",
   "execution_count": 6,
   "id": "ddce2765-f457-43ad-ae8e-c139932ceced",
   "metadata": {},
   "outputs": [
    {
     "data": {
      "text/plain": [
       "Index(['Country (or dependency)', 'Population (2020)', 'Yearly Change',\n",
       "       'Net Change', 'Density (P/Km²)', 'Land Area (Km²)', 'Migrants (net)',\n",
       "       'Fert. Rate', 'Med. Age', 'Urban Pop %', 'World Share'],\n",
       "      dtype='object')"
      ]
     },
     "execution_count": 6,
     "metadata": {},
     "output_type": "execute_result"
    }
   ],
   "source": [
    "df.columns"
   ]
  },
  {
   "cell_type": "code",
   "execution_count": 7,
   "id": "e9b6fda6-111e-417a-bef1-b292a7d15207",
   "metadata": {},
   "outputs": [
    {
     "data": {
      "text/plain": [
       "0"
      ]
     },
     "execution_count": 7,
     "metadata": {},
     "output_type": "execute_result"
    }
   ],
   "source": [
    "##check duplicate values\n",
    "df.duplicated().sum()"
   ]
  },
  {
   "cell_type": "code",
   "execution_count": 8,
   "id": "44e7be50-d4bb-4e84-8fc1-098730f2f9bf",
   "metadata": {},
   "outputs": [
    {
     "data": {
      "text/plain": [
       "Country (or dependency)     0\n",
       "Population (2020)           0\n",
       "Yearly Change               0\n",
       "Net Change                  0\n",
       "Density (P/Km²)             0\n",
       "Land Area (Km²)             0\n",
       "Migrants (net)             34\n",
       "Fert. Rate                  0\n",
       "Med. Age                    0\n",
       "Urban Pop %                 0\n",
       "World Share                 0\n",
       "dtype: int64"
      ]
     },
     "execution_count": 8,
     "metadata": {},
     "output_type": "execute_result"
    }
   ],
   "source": [
    "##check is there any null values\n",
    "df.isnull().sum()"
   ]
  },
  {
   "cell_type": "code",
   "execution_count": 9,
   "id": "87d94dcd-f27f-4350-a329-e510708627da",
   "metadata": {},
   "outputs": [
    {
     "data": {
      "text/plain": [
       "Country (or dependency)    0\n",
       "Population (2020)          0\n",
       "Yearly Change              0\n",
       "Net Change                 0\n",
       "Density (P/Km²)            0\n",
       "Land Area (Km²)            0\n",
       "Migrants (net)             0\n",
       "Fert. Rate                 0\n",
       "Med. Age                   0\n",
       "Urban Pop %                0\n",
       "World Share                0\n",
       "dtype: int64"
      ]
     },
     "execution_count": 9,
     "metadata": {},
     "output_type": "execute_result"
    }
   ],
   "source": [
    "##check all null values\n",
    "df = df.dropna()\n",
    "df.isnull().sum()"
   ]
  },
  {
   "cell_type": "code",
   "execution_count": 17,
   "id": "306ef461-0b49-4d44-885b-e73a65dd83c5",
   "metadata": {},
   "outputs": [
    {
     "name": "stdout",
     "output_type": "stream",
     "text": [
      "Country (or dependency)     object\n",
      "Population (2020)            int64\n",
      "Yearly Change               object\n",
      "Net Change                   int64\n",
      "Density (P/Km²)              int64\n",
      "Land Area (Km²)              int64\n",
      "Migrants (net)             float64\n",
      "Fert. Rate                  object\n",
      "Med. Age                    object\n",
      "Urban Pop %                 object\n",
      "World Share                 object\n",
      "dtype: object\n"
     ]
    }
   ],
   "source": [
    "##data types of every columns\n",
    "print(df.dtypes)"
   ]
  },
  {
   "cell_type": "code",
   "execution_count": 24,
   "id": "a15a2bc0",
   "metadata": {},
   "outputs": [
    {
     "data": {
      "text/html": [
       "<div>\n",
       "<style scoped>\n",
       "    .dataframe tbody tr th:only-of-type {\n",
       "        vertical-align: middle;\n",
       "    }\n",
       "\n",
       "    .dataframe tbody tr th {\n",
       "        vertical-align: top;\n",
       "    }\n",
       "\n",
       "    .dataframe thead th {\n",
       "        text-align: right;\n",
       "    }\n",
       "</style>\n",
       "<table border=\"1\" class=\"dataframe\">\n",
       "  <thead>\n",
       "    <tr style=\"text-align: right;\">\n",
       "      <th></th>\n",
       "      <th>Country (or dependency)</th>\n",
       "      <th>Population (2020)</th>\n",
       "    </tr>\n",
       "  </thead>\n",
       "  <tbody>\n",
       "    <tr>\n",
       "      <th>0</th>\n",
       "      <td>China</td>\n",
       "      <td>1440297825</td>\n",
       "    </tr>\n",
       "    <tr>\n",
       "      <th>1</th>\n",
       "      <td>India</td>\n",
       "      <td>1382345085</td>\n",
       "    </tr>\n",
       "    <tr>\n",
       "      <th>2</th>\n",
       "      <td>United States</td>\n",
       "      <td>331341050</td>\n",
       "    </tr>\n",
       "    <tr>\n",
       "      <th>3</th>\n",
       "      <td>Indonesia</td>\n",
       "      <td>274021604</td>\n",
       "    </tr>\n",
       "    <tr>\n",
       "      <th>4</th>\n",
       "      <td>Pakistan</td>\n",
       "      <td>221612785</td>\n",
       "    </tr>\n",
       "  </tbody>\n",
       "</table>\n",
       "</div>"
      ],
      "text/plain": [
       "  Country (or dependency)  Population (2020)\n",
       "0                   China         1440297825\n",
       "1                   India         1382345085\n",
       "2           United States          331341050\n",
       "3               Indonesia          274021604\n",
       "4                Pakistan          221612785"
      ]
     },
     "execution_count": 24,
     "metadata": {},
     "output_type": "execute_result"
    }
   ],
   "source": [
    "top_5_populated_countries = df[['Country (or dependency)', 'Population (2020)']].sort_values(by='Population (2020)', ascending=False).head(5)\n",
    "\n",
    "top_5_populated_countries"
   ]
  },
  {
   "cell_type": "code",
   "execution_count": 32,
   "id": "7488e8c6",
   "metadata": {},
   "outputs": [
    {
     "data": {
      "text/plain": [
       "Text(0, 0.5, 'population_number')"
      ]
     },
     "execution_count": 32,
     "metadata": {},
     "output_type": "execute_result"
    },
    {
     "data": {
      "image/png": "[encoded data removed]",
      "text/plain": [
       "<Figure size 640x480 with 1 Axes>"
      ]
     },
     "metadata": {},
     "output_type": "display_data"
    }
   ],
   "source": [
    "##top 5 county population bar plot\n",
    "plt.bar(top_5_populated_countries['Country (or dependency)'],top_5_populated_countries['Population (2020)'])\n",
    "plt.title('Top_5_populated_county')\n",
    "plt.xlabel('county')\n",
    "plt.ylabel('population_number')"
   ]
  },
  {
   "cell_type": "code",
   "execution_count": 36,
   "id": "6bc91aa7",
   "metadata": {},
   "outputs": [
    {
     "data": {
      "text/html": [
       "<div>\n",
       "<style scoped>\n",
       "    .dataframe tbody tr th:only-of-type {\n",
       "        vertical-align: middle;\n",
       "    }\n",
       "\n",
       "    .dataframe tbody tr th {\n",
       "        vertical-align: top;\n",
       "    }\n",
       "\n",
       "    .dataframe thead th {\n",
       "        text-align: right;\n",
       "    }\n",
       "</style>\n",
       "<table border=\"1\" class=\"dataframe\">\n",
       "  <thead>\n",
       "    <tr style=\"text-align: right;\">\n",
       "      <th></th>\n",
       "      <th>Country (or dependency)</th>\n",
       "      <th>Med. Age</th>\n",
       "    </tr>\n",
       "  </thead>\n",
       "  <tbody>\n",
       "    <tr>\n",
       "      <th>10</th>\n",
       "      <td>Japan</td>\n",
       "      <td>48</td>\n",
       "    </tr>\n",
       "    <tr>\n",
       "      <th>22</th>\n",
       "      <td>Italy</td>\n",
       "      <td>47</td>\n",
       "    </tr>\n",
       "    <tr>\n",
       "      <th>178</th>\n",
       "      <td>Martinique</td>\n",
       "      <td>47</td>\n",
       "    </tr>\n",
       "    <tr>\n",
       "      <th>18</th>\n",
       "      <td>Germany</td>\n",
       "      <td>46</td>\n",
       "    </tr>\n",
       "    <tr>\n",
       "      <th>86</th>\n",
       "      <td>Greece</td>\n",
       "      <td>46</td>\n",
       "    </tr>\n",
       "  </tbody>\n",
       "</table>\n",
       "</div>"
      ],
      "text/plain": [
       "    Country (or dependency) Med. Age\n",
       "10                    Japan       48\n",
       "22                    Italy       47\n",
       "178              Martinique       47\n",
       "18                  Germany       46\n",
       "86                   Greece       46"
      ]
     },
     "execution_count": 36,
     "metadata": {},
     "output_type": "execute_result"
    }
   ],
   "source": [
    "##most populatrd age shown\n",
    "group_age = df[['Country (or dependency)','Med. Age']].sort_values(by ='Med. Age',ascending = False).head(5)\n",
    "group_age\n"
   ]
  },
  {
   "cell_type": "code",
   "execution_count": 39,
   "id": "2d121271",
   "metadata": {},
   "outputs": [
    {
     "data": {
      "text/plain": [
       "Text(0, 0.5, 'age')"
      ]
     },
     "execution_count": 39,
     "metadata": {},
     "output_type": "execute_result"
    },
    {
     "data": {
      "image/png": "[encoded data removed]",
      "text/plain": [
       "<Figure size 640x480 with 1 Axes>"
      ]
     },
     "metadata": {},
     "output_type": "display_data"
    }
   ],
   "source": [
    "##bar plot\n",
    "plt.bar(group_age['Country (or dependency)'],group_age['Med. Age'])\n",
    "plt.title('country name with most populated age')\n",
    "plt.xlabel('country')\n",
    "plt.ylabel('age')"
   ]
  },
  {
   "cell_type": "code",
   "execution_count": 45,
   "id": "f6d063d5",
   "metadata": {},
   "outputs": [
    {
     "data": {
      "text/html": [
       "<div>\n",
       "<style scoped>\n",
       "    .dataframe tbody tr th:only-of-type {\n",
       "        vertical-align: middle;\n",
       "    }\n",
       "\n",
       "    .dataframe tbody tr th {\n",
       "        vertical-align: top;\n",
       "    }\n",
       "\n",
       "    .dataframe thead th {\n",
       "        text-align: right;\n",
       "    }\n",
       "</style>\n",
       "<table border=\"1\" class=\"dataframe\">\n",
       "  <thead>\n",
       "    <tr style=\"text-align: right;\">\n",
       "      <th></th>\n",
       "      <th>Country (or dependency)</th>\n",
       "      <th>Fert. Rate</th>\n",
       "    </tr>\n",
       "  </thead>\n",
       "  <tbody>\n",
       "    <tr>\n",
       "      <th>73</th>\n",
       "      <td>Zimbabwe</td>\n",
       "      <td>3.6</td>\n",
       "    </tr>\n",
       "    <tr>\n",
       "      <th>64</th>\n",
       "      <td>Zambia</td>\n",
       "      <td>4.7</td>\n",
       "    </tr>\n",
       "    <tr>\n",
       "      <th>47</th>\n",
       "      <td>Yemen</td>\n",
       "      <td>3.8</td>\n",
       "    </tr>\n",
       "    <tr>\n",
       "      <th>169</th>\n",
       "      <td>Western Sahara</td>\n",
       "      <td>2.4</td>\n",
       "    </tr>\n",
       "    <tr>\n",
       "      <th>14</th>\n",
       "      <td>Vietnam</td>\n",
       "      <td>2.1</td>\n",
       "    </tr>\n",
       "  </tbody>\n",
       "</table>\n",
       "</div>"
      ],
      "text/plain": [
       "    Country (or dependency) Fert. Rate\n",
       "73                 Zimbabwe        3.6\n",
       "64                   Zambia        4.7\n",
       "47                    Yemen        3.8\n",
       "169          Western Sahara        2.4\n",
       "14                  Vietnam        2.1"
      ]
     },
     "execution_count": 45,
     "metadata": {},
     "output_type": "execute_result"
    }
   ],
   "source": [
    "##fertility_rate_count\n",
    "fertility = df[['Country (or dependency)','Fert. Rate']].sort_values(by ='Country (or dependency)',ascending = False).head(5)\n",
    "fertility\n"
   ]
  },
  {
   "cell_type": "code",
   "execution_count": 46,
   "id": "f7592043",
   "metadata": {},
   "outputs": [
    {
     "data": {
      "text/plain": [
       "Text(0, 0.5, 'fertility')"
      ]
     },
     "execution_count": 46,
     "metadata": {},
     "output_type": "execute_result"
    },
    {
     "data": {
      "image/png": "[encoded data removed]",
      "text/plain": [
       "<Figure size 640x480 with 1 Axes>"
      ]
     },
     "metadata": {},
     "output_type": "display_data"
    }
   ],
   "source": [
    "##plot bar graph\n",
    "plt.bar(fertility['Country (or dependency)'],fertility['Fert. Rate'])\n",
    "plt.title('fertility rate')\n",
    "plt.xlabel('country')\n",
    "plt.ylabel('fertility')"
   ]
  },
  {
   "cell_type": "code",
   "execution_count": null,
   "id": "00069d65",
   "metadata": {},
   "outputs": [],
   "source": []
  },
  {
   "cell_type": "code",
   "execution_count": null,
   "id": "5d59cd43",
   "metadata": {},
   "outputs": [],
   "source": []
  }
 ],
 "metadata": {
  "kernelspec": {
   "display_name": "Python 3 (ipykernel)",
   "language": "python",
   "name": "python3"
  },
  "language_info": {
   "codemirror_mode": {
    "name": "ipython",
    "version": 3
   },
   "file_extension": ".py",
   "mimetype": "text/x-python",
   "name": "python",
   "nbconvert_exporter": "python",
   "pygments_lexer": "ipython3",
   "version": "3.11.5"
  }
 },
 "nbformat": 4,
 "nbformat_minor": 5
}
